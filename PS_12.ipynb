{
  "nbformat": 4,
  "nbformat_minor": 0,
  "metadata": {
    "colab": {
      "name": "PS-12.ipynb",
      "provenance": [],
      "collapsed_sections": [],
      "include_colab_link": true
    },
    "kernelspec": {
      "name": "python3",
      "display_name": "Python 3"
    },
    "language_info": {
      "name": "python"
    }
  },
  "cells": [
    {
      "cell_type": "markdown",
      "metadata": {
        "id": "view-in-github",
        "colab_type": "text"
      },
      "source": [
        "<a href=\"https://colab.research.google.com/github/hbenedek/epfl-stochastic/blob/main/PS_12.ipynb\" target=\"_parent\"><img src=\"https://colab.research.google.com/assets/colab-badge.svg\" alt=\"Open In Colab\"/></a>"
      ]
    },
    {
      "cell_type": "markdown",
      "metadata": {
        "id": "v1NAJ8NQ0FNE"
      },
      "source": [
        "# Stochastic Calculus - Problem Set 12\n",
        "## Names ..."
      ]
    },
    {
      "cell_type": "code",
      "metadata": {
        "id": "QU6E7OLp5NNz"
      },
      "source": [
        "import numpy as np\n",
        "import matplotlib.pyplot as plt\n",
        "import scipy.stats\n",
        "from tqdm import tqdm"
      ],
      "execution_count": 8,
      "outputs": []
    },
    {
      "cell_type": "markdown",
      "metadata": {
        "id": "KpE3q4AK0c5P"
      },
      "source": [
        "## Exercise 3 \n",
        "\n",
        "Consider the setup presented in the importance sampling section of the lecture sliedes: $L:= W_1$ denotes the annual loss of a portfolio. Let $p=0.001$ and let $q= 3.0902$ be the $(1-p)$-quantile of $L$. Compute the expected shortfall $ES = \\frac{1}{p} \\mathbb{E}_{\\mathbb{P}}[L \\mathbb{1}_{L\\ge q}]$ in the following ways. "
      ]
    },
    {
      "cell_type": "code",
      "metadata": {
        "id": "OGKNpK7_oZS5"
      },
      "source": [
        "# confidence interval\n",
        "\n",
        "def mean_confidence_interval(data, confidence=0.95):\n",
        "    ci = scipy.stats.t.interval(confidence, len(data)-1, loc=np.mean(data), scale=scipy.stats.sem(data))\n",
        "    return [np.mean(data), ci[0], ci[1]]"
      ],
      "execution_count": 9,
      "outputs": []
    },
    {
      "cell_type": "code",
      "metadata": {
        "id": "lW27xD5-_Jk-"
      },
      "source": [
        "def visualize_simualtion(data, M):\n",
        "  fig, axs = plt.subplots(2,2, sharex=True, sharey=True, figsize=(15,10))\n",
        "  fig.suptitle('Visualizations of the result')\n",
        "  bins = 30\n",
        "  axs[0,0].hist(data[0], bins=bins, color='tab:orange')\n",
        "  axs[0,0].set_title(f'M={M[0]}')\n",
        "  axs[0,1].hist(data[1], bins=bins, color='tab:green')\n",
        "  axs[0,1].set_title(f'M={M[1]}')\n",
        "  axs[1,0].hist(data[2], bins=bins, color='tab:red')\n",
        "  axs[1,0].set_title(f'M={M[2]}')\n",
        "  axs[1,1].hist(data[3], bins=bins, color='tab:blue')\n",
        "  axs[1,1].set_title(f'M={M[3]}')\n",
        "\n",
        "  for ax in axs.flat:\n",
        "    ax.set(xlabel='values', ylabel='count')\n",
        "\n",
        "  for ax in axs.flat:\n",
        "    ax.label_outer()"
      ],
      "execution_count": 53,
      "outputs": []
    },
    {
      "cell_type": "code",
      "metadata": {
        "id": "Enuo1Vb75YMO"
      },
      "source": [
        "p = 0.001\n",
        "q = 3.0902\n",
        "M_list = [1000* 2**(2*2), 1000* 2**(2*3), 1000* 2**(2*4), 1000* 2**(2*5)]"
      ],
      "execution_count": 10,
      "outputs": []
    },
    {
      "cell_type": "markdown",
      "metadata": {
        "id": "NFBjGK-E1ynS"
      },
      "source": [
        "(i) analytically exact"
      ]
    },
    {
      "cell_type": "markdown",
      "metadata": {
        "id": "rGjX5Weqslif"
      },
      "source": [
        "Let $L\\sim \\mathcal{N}(0,1)$ then we have $\\frac{1}{p}\\mathbb{E}[{\\mathbb{1}_{\\{L \\geq q\\}}L]}=\\frac{1}{p}\\int_q^{\\infty}xf_L(x)dx=\\frac{1}{p}\\left[-\\frac{e^{-\\frac{x^2}{2}}}{\\sqrt{2\\pi}}\\right]_q^{\\infty}=\\frac{1}{p}\\frac{e^{-\\frac{q^2}{2}}}{\\sqrt{2\\pi}}$"
      ]
    },
    {
      "cell_type": "code",
      "metadata": {
        "colab": {
          "base_uri": "https://localhost:8080/"
        },
        "id": "LOS3FuDFtkGR",
        "outputId": "a0d6c243-e922-4276-c4e2-b902f3fdcd1b"
      },
      "source": [
        " result_an = (np.exp(- (q**2 / 2)) / np.sqrt(2 * np.pi)) *(1/p)\n",
        " print(result_an)\n",
        " results_an = np.ones(4)*result_an"
      ],
      "execution_count": 11,
      "outputs": [
        {
          "output_type": "stream",
          "name": "stdout",
          "text": [
            "3.3674262406876405\n"
          ]
        }
      ]
    },
    {
      "cell_type": "markdown",
      "metadata": {
        "id": "PY-Rh5-B12iB"
      },
      "source": [
        "(ii) via Monte Carlo Simulation under $\\mathbb{P}$"
      ]
    },
    {
      "cell_type": "code",
      "metadata": {
        "colab": {
          "base_uri": "https://localhost:8080/"
        },
        "id": "yeRtMJXJ1_gI",
        "outputId": "de2bdf48-24ed-460f-bf77-9ad2964ae1bf"
      },
      "source": [
        "# defining monte carlo method\n",
        "def monte_carlo(M, q, p):\n",
        "  # simulate L\n",
        "  mu, sigma = 0, 1 \n",
        "  L = np.random.normal(mu, sigma, M)\n",
        "\n",
        "  # estimate ES\n",
        "  sum = (L[L>=q]).sum()\n",
        "\n",
        "  p_hat = (1/M) * sum\n",
        "  return (1/p) * p_hat\n",
        "\n",
        "# making the simulations\n",
        "sim_mc = []\n",
        "results_mc = []\n",
        "for M in M_list:\n",
        "  ps = []\n",
        "  for i in tqdm(range(100)):\n",
        "    p_mc = monte_carlo(M, q, p)\n",
        "    ps.append(p_mc)\n",
        "  sim_mc.append(ps)\n",
        "  results_mc.append(mean_confidence_interval(ps))\n",
        "  \n",
        "print(results_mc)"
      ],
      "execution_count": 29,
      "outputs": [
        {
          "output_type": "stream",
          "name": "stderr",
          "text": [
            "100%|██████████| 100/100 [00:00<00:00, 1347.46it/s]\n",
            "100%|██████████| 100/100 [00:00<00:00, 322.81it/s]\n",
            "100%|██████████| 100/100 [00:01<00:00, 77.69it/s]\n",
            "100%|██████████| 100/100 [00:04<00:00, 20.25it/s]"
          ]
        },
        {
          "output_type": "stream",
          "name": "stdout",
          "text": [
            "[[3.4305087928012368, 3.2796543772679434, 3.58136320833453], [3.4006886167497608, 3.322858019045507, 3.4785192144540145], [3.3558557159350313, 3.3210403430806337, 3.390671088789429], [3.3816474455385825, 3.361570095666846, 3.401724795410319]]\n"
          ]
        },
        {
          "output_type": "stream",
          "name": "stderr",
          "text": [
            "\n"
          ]
        }
      ]
    },
    {
      "cell_type": "code",
      "metadata": {
        "colab": {
          "base_uri": "https://localhost:8080/",
          "height": 677
        },
        "id": "9OB8ZcmOAX8M",
        "outputId": "e356730e-475c-4f52-d719-293b1b5d2b48"
      },
      "source": [
        "visualize_simualtion(sim_mc, M_list)"
      ],
      "execution_count": 54,
      "outputs": [
        {
          "output_type": "display_data",
          "data": {
            "image/png": "[encoded data removed]",
            "text/plain": [
              "<Figure size 1080x720 with 4 Axes>"
            ]
          },
          "metadata": {
            "needs_background": "light"
          }
        }
      ]
    },
    {
      "cell_type": "markdown",
      "metadata": {
        "id": "O872MLG12AU2"
      },
      "source": [
        "(iii) via importance sampling"
      ]
    },
    {
      "cell_type": "markdown",
      "metadata": {
        "id": "oLGWsaYT4Aea"
      },
      "source": [
        "1. Simulate $M$ independent copies $L^{(1)},..., L^{(M)}$ of $N(q,1)$.\n",
        "2. Estimate $p' = \\frac{1}{M}\\sum_{j=1}^M L^{(j)} e^{-qL^{(j)}+\\frac{1}{2}q^2}1_{L^{(j)}\\ge q}$"
      ]
    },
    {
      "cell_type": "code",
      "metadata": {
        "id": "TQ_tZqfA6WgN",
        "colab": {
          "base_uri": "https://localhost:8080/"
        },
        "outputId": "b7e8511e-bdb1-4681-ea67-735cee2b9974"
      },
      "source": [
        "# defining importance sampling\n",
        "def importance_sampling(M, q, p):\n",
        "  mu, sigma = q, 1 # mean and standard deviation\n",
        "  L = np.random.normal(mu, sigma, M)\n",
        "\n",
        "  D = np.exp( (-q)*L + (1/2) * q*q)\n",
        "  L = D * L\n",
        "  sum = (L[L>=q]).sum() \n",
        "  p_IS = (1/M) * sum \n",
        "  return  (1/p) * p_IS \n",
        "\n",
        "\n",
        "# doing the simulation\n",
        "results_IS = []\n",
        "sam_IS = []\n",
        "for M in M_list:\n",
        "  ps = []\n",
        "  for i in tqdm(range(100)):\n",
        "    p_IS =  importance_sampling(M, q, p)\n",
        "    ps.append(p_IS)\n",
        "  sam_IS.append(ps)\n",
        "  results_IS.append(mean_confidence_interval(ps))\n",
        "  \n",
        "print(results_IS)"
      ],
      "execution_count": 21,
      "outputs": [
        {
          "output_type": "stream",
          "name": "stderr",
          "text": [
            "100%|██████████| 100/100 [00:00<00:00, 851.58it/s]\n",
            "100%|██████████| 100/100 [00:00<00:00, 204.05it/s]\n",
            "100%|██████████| 100/100 [00:01<00:00, 52.08it/s]\n",
            "100%|██████████| 100/100 [00:07<00:00, 13.43it/s]"
          ]
        },
        {
          "output_type": "stream",
          "name": "stdout",
          "text": [
            "[[216.9031195303347, 214.70150557397767, 219.1047334866917], [216.08121009369373, 215.0570039646022, 217.10541622278527], [216.61213425243918, 216.0986967233514, 217.12557178152696], [216.95363782972944, 216.709764747135, 217.19751091232388]]\n"
          ]
        },
        {
          "output_type": "stream",
          "name": "stderr",
          "text": [
            "\n"
          ]
        }
      ]
    },
    {
      "cell_type": "code",
      "metadata": {
        "colab": {
          "base_uri": "https://localhost:8080/",
          "height": 677
        },
        "id": "Ugbl4KGx_Hsi",
        "outputId": "543ba20d-5301-45d8-afcb-8f05f0716f7a"
      },
      "source": [
        "visualize_simualtion(sam_IS, M_list)"
      ],
      "execution_count": 55,
      "outputs": [
        {
          "output_type": "display_data",
          "data": {
            "image/png": "[encoded data removed]",
            "text/plain": [
              "<Figure size 1080x720 with 4 Axes>"
            ]
          },
          "metadata": {
            "needs_background": "light"
          }
        }
      ]
    },
    {
      "cell_type": "markdown",
      "metadata": {
        "id": "bNQtpXf52FJL"
      },
      "source": [
        "Produce a plot similar to Fig 12 in the lecture notes."
      ]
    },
    {
      "cell_type": "code",
      "metadata": {
        "colab": {
          "base_uri": "https://localhost:8080/",
          "height": 265
        },
        "id": "azZ5D1ZD2LLl",
        "outputId": "6070a664-6da8-4960-cce9-3e421f8d9021"
      },
      "source": [
        "# plot\n",
        "fig, ax = plt.subplots()\n",
        "x =[2,3,4,5]\n",
        "\n",
        "\n",
        "def filter_column(data, i): # i is the desired column\n",
        "  col = []\n",
        "  for j in range(len(data)):\n",
        "    col.append(data[j][i])\n",
        "  return col\n",
        "\n",
        "\n",
        "ax.fill_between(x, filter_column(results_mc, 1), filter_column(results_mc, 2), alpha=.5, linewidth=0)\n",
        "ax.plot(x, filter_column(results_mc, 0), linewidth=2)\n",
        "\n",
        "\n",
        "ax.fill_between(x, filter_column(results_IS, 1), filter_column(results_IS, 2), alpha=.5, linewidth=0)\n",
        "ax.plot(x, filter_column(results_IS, 0), linewidth=2)\n",
        "\n",
        "\n",
        "ax.plot(x, results_an, linewidth=2)\n",
        "\n",
        "\n",
        "plt.show()"
      ],
      "execution_count": 56,
      "outputs": [
        {
          "output_type": "display_data",
          "data": {
            "image/png": "[encoded data removed]",
            "text/plain": [
              "<Figure size 432x288 with 1 Axes>"
            ]
          },
          "metadata": {
            "needs_background": "light"
          }
        }
      ]
    },
    {
      "cell_type": "code",
      "metadata": {
        "id": "83rUofynKO6V"
      },
      "source": [
        ""
      ],
      "execution_count": 14,
      "outputs": []
    }
  ]
}