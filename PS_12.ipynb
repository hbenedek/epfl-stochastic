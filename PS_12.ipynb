{
  "nbformat": 4,
  "nbformat_minor": 0,
  "metadata": {
    "colab": {
      "name": "PS-12.ipynb",
      "provenance": [],
      "collapsed_sections": [],
      "include_colab_link": true
    },
    "kernelspec": {
      "name": "python3",
      "display_name": "Python 3"
    },
    "language_info": {
      "name": "python"
    }
  },
  "cells": [
    {
      "cell_type": "markdown",
      "metadata": {
        "id": "view-in-github",
        "colab_type": "text"
      },
      "source": [
        "<a href=\"https://colab.research.google.com/github/hbenedek/epfl-stochastic/blob/main/PS_12.ipynb\" target=\"_parent\"><img src=\"https://colab.research.google.com/assets/colab-badge.svg\" alt=\"Open In Colab\"/></a>"
      ]
    },
    {
      "cell_type": "markdown",
      "metadata": {
        "id": "v1NAJ8NQ0FNE"
      },
      "source": [
        "# Stochastic Calculus - Problem Set 12\n",
        "## Names ..."
      ]
    },
    {
      "cell_type": "code",
      "metadata": {
        "id": "QU6E7OLp5NNz"
      },
      "source": [
        "import numpy as np\n",
        "import matplotlib.pyplot as plt\n",
        "import scipy.stats"
      ],
      "execution_count": 2,
      "outputs": []
    },
    {
      "cell_type": "markdown",
      "metadata": {
        "id": "oy_hnKtN0V8W"
      },
      "source": [
        "## Exercise 2"
      ]
    },
    {
      "cell_type": "code",
      "metadata": {
        "id": "6zvRD60V0UQS"
      },
      "source": [
        ""
      ],
      "execution_count": 2,
      "outputs": []
    },
    {
      "cell_type": "markdown",
      "metadata": {
        "id": "KpE3q4AK0c5P"
      },
      "source": [
        "## Exercise 3 \n",
        "\n",
        "Consider the setup presented in the importance sampling section of the lecture sliedes: $L:= W_1$ denotes the annual loss of a portfolio. Let $p=0.001$ and let $q= 3.0902$ be the $(1-p)$-quantile of $L$. Compute the expected shortfall $ES = \\frac{1}{p} \\mathbb{E}_{\\mathbb{P}}[L \\mathbb{1}_{L\\ge q}]$ in the following ways. "
      ]
    },
    {
      "cell_type": "code",
      "metadata": {
        "id": "OGKNpK7_oZS5"
      },
      "source": [
        "# confidence interval\n",
        "\n",
        "def mean_confidence_interval(data, confidence=0.95):\n",
        "    return np.mean(data), scipy.stats.t.interval(confidence, len(data)-1, loc=np.mean(data), scale=scipy.stats.sem(data))"
      ],
      "execution_count": 19,
      "outputs": []
    },
    {
      "cell_type": "code",
      "metadata": {
        "id": "Enuo1Vb75YMO"
      },
      "source": [
        "p = 0.001\n",
        "q = 3.0902\n",
        "M_list = [1000* 2**(2*2), 1000* 2**(2*3), 1000* 2**(2*4), 1000* 2**(2*5)]"
      ],
      "execution_count": 3,
      "outputs": []
    },
    {
      "cell_type": "markdown",
      "metadata": {
        "id": "NFBjGK-E1ynS"
      },
      "source": [
        "(i) analytically exact"
      ]
    },
    {
      "cell_type": "markdown",
      "metadata": {
        "id": "rGjX5Weqslif"
      },
      "source": [
        "Let $X\\sim \\mathcal{N}(0,1)$ then we have $\\frac{1}{p}\\mathbb{E}[{\\mathbb{1}_{\\{L \\geq q\\}}L]}=\\frac{1}{p}\\int_q^{\\infty}xf_X(x)dx=\\frac{1}{p}\\left[\\frac{e^{-\\frac{x^2}{2}}}{\\sqrt{2\\pi}}\\right]_q^{\\infty}=\\frac{1}{p}\\frac{e^{-\\frac{q^2}{2}}}{\\sqrt{2\\pi}}$"
      ]
    },
    {
      "cell_type": "code",
      "metadata": {
        "colab": {
          "base_uri": "https://localhost:8080/"
        },
        "id": "LOS3FuDFtkGR",
        "outputId": "0a4c52c8-6a12-4f1e-f019-7d25d85d400e"
      },
      "source": [
        "1 / p * (np.exp(- (q**2 / 2)) / np.sqrt(2 * np.pi))"
      ],
      "execution_count": 21,
      "outputs": [
        {
          "output_type": "execute_result",
          "data": {
            "text/plain": [
              "0.0017329988555755454"
            ]
          },
          "metadata": {},
          "execution_count": 21
        }
      ]
    },
    {
      "cell_type": "code",
      "metadata": {
        "id": "cTRoA8jD0euf"
      },
      "source": [
        ""
      ],
      "execution_count": 3,
      "outputs": []
    },
    {
      "cell_type": "markdown",
      "metadata": {
        "id": "PY-Rh5-B12iB"
      },
      "source": [
        "(ii) via Monte Carlo Simulation under $\\mathbb{P}$"
      ]
    },
    {
      "cell_type": "code",
      "metadata": {
        "colab": {
          "base_uri": "https://localhost:8080/"
        },
        "id": "yeRtMJXJ1_gI",
        "outputId": "4f13f99b-4e91-4d08-d2ac-ab4816768ac6"
      },
      "source": [
        "def monte_carlo(M, q):\n",
        "  # simulate L\n",
        "  mu, sigma = q, 1 \n",
        "  L = np.random.normal(mu, sigma, M)\n",
        "\n",
        "  # estimate ES\n",
        "  sum = 0\n",
        "  for i in range(M): \n",
        "    j = L[i]\n",
        "    if j >= q: \n",
        "      sum+=j\n",
        "  p = 1/M * sum\n",
        "  return p\n",
        "\n",
        "results_mc=[]\n",
        "for M in M_list:\n",
        "  ps = []\n",
        "  for i in range(100):\n",
        "    p = monte_carlo(M, q)\n",
        "    ps.append(p)\n",
        "  results_mc.append(mean_confidence_interval(ps))\n",
        "  \n",
        "print(results_mc)"
      ],
      "execution_count": 20,
      "outputs": [
        {
          "output_type": "stream",
          "name": "stdout",
          "text": [
            "[(1.942678064971592, (1.9396891159778624, 1.9456670139653216)), (1.9436450367115858, (1.9419650864915539, 1.9453249869316178)), (1.9437655107925675, (1.9429548152979739, 1.9445762062871612)), (1.9444850399308657, (1.9441285786349896, 1.944841501226742))]\n"
          ]
        }
      ]
    },
    {
      "cell_type": "markdown",
      "metadata": {
        "id": "O872MLG12AU2"
      },
      "source": [
        "(iii) via importance sampling"
      ]
    },
    {
      "cell_type": "markdown",
      "metadata": {
        "id": "oLGWsaYT4Aea"
      },
      "source": [
        "1. Simulate $M$ independent copies $L^{(1)},..., L^{(M)}$ of $N(q,1)$.\n",
        "2. Estimate $p' = \\frac{1}{M}\\sum_{j=1}^M L^{(j)} e^{-qL^{(j)}+\\frac{1}{2}q^2}1_{L^{(j)}\\ge q}$"
      ]
    },
    {
      "cell_type": "code",
      "metadata": {
        "id": "TQ_tZqfA6WgN",
        "colab": {
          "base_uri": "https://localhost:8080/"
        },
        "outputId": "83dd11f7-51fe-414a-8c5e-57a54f52fe54"
      },
      "source": [
        "def importance_sampling(M, q):\n",
        "  mu, sigma = q, 1 # mean and standard deviation\n",
        "  s = np.random.normal(mu, sigma, M)\n",
        "  sum = 0\n",
        "  for i in range(M): \n",
        "    j = s[i]* np.exp(-q * s[i] + 1/2 * q * q)\n",
        "    if j >= q: \n",
        "      sum+=j\n",
        "  p_IS = 1/M * sum\n",
        "  return p_IS\n",
        "\n",
        "results_IS=[]\n",
        "for M in M_list:\n",
        "  ps = []\n",
        "  for i in range(100):\n",
        "    p_IS = importance_sampling(M, q)\n",
        "    ps.append(p_IS)\n",
        "  results_IS.append(mean_confidence_interval(ps))\n",
        "  \n",
        "print(results_IS)"
      ],
      "execution_count": 6,
      "outputs": [
        {
          "output_type": "stream",
          "name": "stdout",
          "text": [
            "[[0.2172594711826003, 0.21528890161767172, 0.2192300407475289], [0.21561777800312465, 0.21466841027165337, 0.21656714573459593], [0.216734994098491, 0.2161985272059662, 0.21727146099101582], [0.21681850204960845, 0.21653900444551422, 0.2170979996537027]]\n"
          ]
        }
      ]
    },
    {
      "cell_type": "markdown",
      "metadata": {
        "id": "bNQtpXf52FJL"
      },
      "source": [
        "Produce a plot similar to Fig 12 in the lecture notes."
      ]
    },
    {
      "cell_type": "code",
      "metadata": {
        "colab": {
          "base_uri": "https://localhost:8080/",
          "height": 513
        },
        "id": "azZ5D1ZD2LLl",
        "outputId": "f04a1c5d-09e5-4933-9496-9b1c10ec18e5"
      },
      "source": [
        "# plot\n",
        "fig, ax = plt.subplots()\n",
        "x =[2,3,4]\n",
        "\n",
        "ax.fill_between(x, results_mc[:][1], results_mc[:][2], alpha=.5, linewidth=0)\n",
        "ax.plot(x, results_mc[:][0], linewidth=2)\n",
        "\n",
        "plt.show()\n",
        "\n",
        "\n",
        "fig, ax = plt.subplots()\n",
        "\n",
        "ax.fill_between(x, results_IS[:][1], results_IS[:][2], alpha=.5, linewidth=0)\n",
        "ax.plot(x, results_IS[:][0], linewidth=2)\n",
        "\n",
        "\n",
        "plt.show()"
      ],
      "execution_count": 11,
      "outputs": [
        {
          "output_type": "display_data",
          "data": {
            "image/png": "[encoded data removed]",
            "text/plain": [
              "<Figure size 432x288 with 1 Axes>"
            ]
          },
          "metadata": {
            "needs_background": "light"
          }
        },
        {
          "output_type": "display_data",
          "data": {
            "image/png": "[encoded data removed]",
            "text/plain": [
              "<Figure size 432x288 with 1 Axes>"
            ]
          },
          "metadata": {
            "needs_background": "light"
          }
        }
      ]
    },
    {
      "cell_type": "code",
      "metadata": {
        "id": "83rUofynKO6V"
      },
      "source": [
        ""
      ],
      "execution_count": null,
      "outputs": []
    }
  ]
}